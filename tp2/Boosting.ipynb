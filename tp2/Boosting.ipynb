{
 "cells": [
  {
   "cell_type": "markdown",
   "metadata": {},
   "source": [
    "# Aprendizado de máquina - trabalho prático 2\n",
    "### Danilo Barros Cardoso\n",
    "\n",
    "Este notebook irá detalhar e demonstrar a implementação do algoritmo de Boosting, bem como a análise de algumas caracteristicas do algoritmo.\n",
    "\n",
    "Conforme solicitado na especificação do trabalho, não será utilizado nenhuma biblioteca de aprendizado de máquina. Além das classes padrão do Python, será utilizada a biblioteca NumPy para auxiliar no tratamento de algumas operações em listas (como ordenação) e para facilitar algumas operações que precisam ser repetidas para todos os elementos do dataset, por exemplo. "
   ]
  },
  {
   "cell_type": "code",
   "execution_count": 1,
   "metadata": {},
   "outputs": [],
   "source": [
    "import csv\n",
    "import numpy as np\n",
    "import matplotlib\n",
    "import matplotlib.pyplot as plt"
   ]
  },
  {
   "cell_type": "markdown",
   "metadata": {},
   "source": [
    "## Leitura dos dados\n",
    "\n",
    "O trecho de código abaixo é responsável apenas pela leitura do arquivo de dados. Trata-se de um arquivo CSV sendo que as 9 primeiras colunas representam posições no tabuleiro do \"jogo da velha\" e a última coluna representa a o resultado do jogo, recebendo o valor 'positive' caso ao final o jogador 'x' tenha vencido a partida e 'negative' caso ao final o jogador 'o' tenha vencido a partida.\n",
    "\n",
    "Cada coluna de dados pode receber 3 valores sendo:\n",
    "<ul>\n",
    "<li>'x' - Caso a posição esteja ocupada pelo jogador 'x'</li>\n",
    "<li>'o' - Caso a posição esteja ocupada pelo jogador 'o'</li>\n",
    "<li>'b' - Caso a posição ainda não tenha sido ocupada por nenhum jogador.</li>\n",
    "</ul>\n",
    "\n",
    "Os dados de entrada são armazenados no objeto 'data' como uma lista de listas. Os valores categóricos ('x', 'o', 'b') são mantidos como são. Já os rótulos são armazenados no objeto 'labels' como uma lista. Para se adequar ao algoritmo boosting, os valores dos rótulos são mapeados para os valores +1 (caso o rótulo original seja 'positive') e -1 (caso o rótulo original seja 'negative)."
   ]
  },
  {
   "cell_type": "code",
   "execution_count": 2,
   "metadata": {},
   "outputs": [],
   "source": [
    "data = []   # Recebe os dados de entrada\n",
    "labels= []  # Recebe os rótulos mapeandos para os valores +1 e -1 (conforme definido pelo algoritmo Boosting)\n",
    "\n",
    "with open('tic-tac-toe.data') as csvfile:\n",
    "    reader = csv.reader(csvfile, delimiter=',')\n",
    "    for row in reader:\n",
    "        data.append(row[0:9])\n",
    "        if (row[9] == 'positive'):\n",
    "            labels.append(1)\n",
    "        else:\n",
    "            labels.append(-1)\n",
    "            "
   ]
  },
  {
   "cell_type": "markdown",
   "metadata": {},
   "source": [
    "## Stumps\n",
    "\n",
    "Stumps (ou tocos) são modelos de predição muito simples, construído basicamente como uma única classificação binária aplicada sobre apenas uma característica do conjunto de dados. O AdaBoost é uma composição de vários stumps, construido de forma iterativa, cada um com um peso na predição final calculado a partir da sua acurácia individual.\n",
    "\n",
    "Os métodos abaixo são responsáveis por:\n",
    "\n",
    "### list_stump\n",
    "\n",
    "Dado uma lista de valores categóricos e o número de colunas presentes no dataset, gerar todos os stumps possíveis. Por uma questão de simplicidade, aqui está sendo considerado que todas as colunas do conjunto de dados de entrada irão receber valores pertentes a mesma categoria (no caso do problema do jogo da velha, o valores 'x', 'o', 'b').\n",
    "\n",
    "A saída desta função é uma lista dos stumps possíveis considerando a decisão pelo valor 'verdadeiro' da categoria (se 'x' então true) e o valor 'negado' da categoria (se 'x' então false). Com isso, para o problema do tic-tac-toe, são gerado 56 stumps.\n",
    "\n",
    "### predict_stump\n",
    "\n",
    "Esta função tem por objetivo gerar classificações baseada em apenas um stump. Recebe como entrada o stump e os dados e faz a classificação.\n",
    "\n",
    "Na saída a função entrega uma lista com as predições através dos valores +1 (positivo) e -1 (negativo)\n",
    "\n",
    "### stump_misses\n",
    "\n",
    "O objetivo desta função é identificar os exemplos que o stump recebido como parâmentro classifica incorretamente. Para isso, além do stump, a funão também recebe os dados de treinamento e os rótulos. Com isto ele faz a classificação e compara com os rótulos para encontrar os exemplos incorretamente classificados. A AdaBoost atribui um peso a cada exemplo. Esta função ainda não se preocupa em avaliar os pesos de cada exemplo de entrada, apenas identificar os exemplos que foram incorretamente classificados.\n",
    "\n",
    "Na saída a função entrega uma lista dos indices dos exemplos que foram incorretamente classíficados.\n",
    "\n",
    "### stump_error\n",
    "\n",
    "O objetivo desta função é calcular o erro total do stump (para poder comparar o stump de entrada com outras alternativas). Nesta função os pesos atribuídos a cada exemplo são levados em consideração.\n",
    "\n",
    "Na saída a função entrega o erro do stump, ponderando os exemplos incorretamente classificados pelos seus respectivos pesos. \n",
    "\n",
    "\n",
    "\n"
   ]
  },
  {
   "cell_type": "code",
   "execution_count": 15,
   "metadata": {},
   "outputs": [],
   "source": [
    "def list_stumps(categories, num_features=9):\n",
    "    stumps = []\n",
    "    for f in range(num_features):\n",
    "        for c in categories:\n",
    "            stumps.append((f,c, 1)) # É analisado se a caracterirstica é igual\n",
    "            stumps.append((f,c, -1)) # É analisada se a caracteristica é diferente\n",
    "    stumps.append(('T',0,0))\n",
    "    stumps.append(('F',0,0))\n",
    "    return stumps\n",
    "\n",
    "def predict_stump(data, stump):\n",
    "    feature = stump[0]\n",
    "    if feature == 'T': # Trata a situação do stump apenas classificar todos os exemplos como positivo\n",
    "        out = []\n",
    "        for i in range(len(data)):\n",
    "            out.append(1)\n",
    "        return out\n",
    "    \n",
    "    if feature == 'F': # Trata a situação do stump apenas classificar todos os exemplos como negativo\n",
    "        out = []\n",
    "        for i in range(len(data)):\n",
    "            out.append(-1)\n",
    "        return out\n",
    "    \n",
    "    # Obtem o valor de referência do stump e realiza a classificação\n",
    "    value = stump[1]\n",
    "    sign = stump[2]\n",
    "    out = []\n",
    "    for i in range(len(data)):\n",
    "        if (data[i][feature] == value):\n",
    "            out.append(1*sign)\n",
    "        else:\n",
    "            out.append(-1*sign)\n",
    "    return out\n",
    "\n",
    "def stump_misses(data, labels, stump):\n",
    "    preds = predict_stump(data, stump)\n",
    "    errors = []\n",
    "    \n",
    "    for idx, label in enumerate(labels):\n",
    "        if label != preds[idx]:\n",
    "            errors.append(idx)\n",
    "            \n",
    "    return errors\n",
    "    \n",
    "def stump_error(misses, weigths):\n",
    "    error = 0\n",
    "    for idx in misses:\n",
    "        error += weigths[idx]\n",
    "    return error\n"
   ]
  },
  {
   "cell_type": "code",
   "execution_count": 19,
   "metadata": {},
   "outputs": [
    {
     "name": "stdout",
     "output_type": "stream",
     "text": [
      "Stumps gerados com os dados de teste das funções\n",
      "[(0, '0', 1), (0, '0', -1), (0, '1', 1), (0, '1', -1), (1, '0', 1), (1, '0', -1), (1, '1', 1), (1, '1', -1), (2, '0', 1), (2, '0', -1), (2, '1', 1), (2, '1', -1), ('T', 0, 0), ('F', 0, 0)]\n",
      "\n",
      "Verificando erros de classificação para alguns cenários\n",
      "\n",
      "Incorretos:  [1] \t Erro: 0.3\n",
      "Incorretos:  [0, 1] \t Erro: 1.0\n",
      "Incorretos:  [] \t Erro: 0\n",
      "Incorretos:  [0, 1] \t Erro: 1.0\n",
      "Incorretos:  [1] \t Erro: 0.3\n"
     ]
    }
   ],
   "source": [
    "# Alguns dados de teste para avaliar os métodos. Dados não relacionados ao problema do jogo da velha\n",
    "\n",
    "weights_t = np.array([0.7, 0.3])\n",
    "data_t = [['1', '0', '1'], ['1', '1', '0']]\n",
    "label_t = [1, -1]\n",
    "categories_t = ['0', '1']\n",
    "\n",
    "print('Stumps gerados com os dados de teste das funções')\n",
    "print(list_stumps(categories_t, num_features=3))\n",
    "\n",
    "print('\\nVerificando erros de classificação para alguns cenários\\n')\n",
    "print('Incorretos:  {} \\t Erro: {}'.format(\n",
    "    stump_misses(data_t, label_t, (0, '1', 1)),\n",
    "    stump_error(stump_misses(data_t, label_t, (0, '1', 1)), weights_t)\n",
    "))\n",
    "print('Incorretos:  {} \\t Erro: {}'.format(\n",
    "    stump_misses(data_t, label_t, (1, '1', 1)),\n",
    "    stump_error(stump_misses(data_t, label_t, (1, '1', 1)), weights_t)\n",
    "))\n",
    "print('Incorretos:  {} \\t Erro: {}'.format(\n",
    "    stump_misses(data_t, label_t, (2, '1', 1)),\n",
    "    stump_error(stump_misses(data_t, label_t, (2, '1', 1)), weights_t)\n",
    "))\n",
    "print('Incorretos:  {} \\t Erro: {}'.format(\n",
    "    stump_misses(data_t, label_t, (2, '1', -1)),\n",
    "    stump_error(stump_misses(data_t, label_t, (2, '1', -1)), weights_t)\n",
    "))\n",
    "print('Incorretos:  {} \\t Erro: {}'.format(\n",
    "    stump_misses(data_t, label_t, ('T', 0, 0 )),\n",
    "    stump_error(stump_misses(data_t, label_t, ('T', 0, 0 )), weights_t)\n",
    "))\n"
   ]
  },
  {
   "cell_type": "markdown",
   "metadata": {},
   "source": [
    "## AdaBoost\n",
    "\n",
    "\n",
    "O algoritmo AdaBoost foi implementado de acordo com o material das aulas. Os seguintes passos são seguindos pelo algoritmo:\n",
    "\n",
    "<ol>\n",
    "    <li>Inicializo os pesos\n",
    "    <li>LOOP:\n",
    "    <li>&nbsp;&nbsp;&nbsp;Escolho o stump com o menor erro empirico na iteração T\n",
    "    <li>&nbsp;&nbsp;&nbsp;Calculo o peso do classificador (alfa)\n",
    "    <li>&nbsp;&nbsp;&nbsp;Atualizo o peso dos dados de teste\n",
    "    <li>Até completar o número de iterações definido como parâmetro\n",
    "</ol>\n",
    "\n",
    "Além da função 'fit' responsável pelo treinamento do modelo, a classe também implementa a função 'predict' que, com os stumps selecionado para o modelo e seus pesos, faz as predições e a função 'calc_accuracy' que, recebendo dados de teste, faz as predições e compara com os rótulos para obter a acurácia do modelo.\n",
    "\n",
    "Apenas para validar o algoritmo, foi criado o dataset utilizado nas aulas para a validação."
   ]
  },
  {
   "cell_type": "code",
   "execution_count": 20,
   "metadata": {},
   "outputs": [],
   "source": [
    "def sort_key(v):\n",
    "    return v[1]\n",
    "\n",
    "class CategoricalBoosting:\n",
    "    def __init__(self, categories = ['x', 'o', 'b'], num_iter = None, verbose = False):\n",
    "        self.model = None\n",
    "        self.categories = categories\n",
    "        self.num_iter = num_iter\n",
    "        self.verbose = verbose\n",
    "        \n",
    "    \n",
    "    def fit(self, data, labels):\n",
    "        weights = np.ones(len(data))/len(data)\n",
    "        stumps = list_stumps(self.categories, num_features=len(data[0]))\n",
    "        closed_set = set()\n",
    "        if not self.num_iter:\n",
    "            self.num_iter = len(stumps)\n",
    "            \n",
    "        model = []\n",
    "        for t in range(self.num_iter):\n",
    "            error_per_stump = []\n",
    "\n",
    "            for stump in stumps:\n",
    "                # if stump not in closed_set:\n",
    "                misses = stump_misses(data, labels, stump)\n",
    "                # print(misses)\n",
    "                error = stump_error(misses, weights)\n",
    "                error_per_stump.append( (stump, error) )\n",
    "            error_per_stump.sort(key=sort_key)\n",
    "            # print('error_per_stump')\n",
    "            # print(error_per_stump)\n",
    "            selected_stump = error_per_stump[0][0]\n",
    "            selected_error = error_per_stump[0][1]\n",
    "            \n",
    "\n",
    "            alpha = 0.5 * np.log( (1 - selected_error)/selected_error )\n",
    "            out = predict_stump(data, selected_stump)\n",
    "            # print(weights)\n",
    "            if self.verbose:\n",
    "                print('Interação: {} \\t Stump: {}  \\t Erro: {} \\t Alpha: {}'.format(t, selected_stump, selected_error, alpha) )\n",
    "\n",
    "            new_weights = weights * np.exp(-alpha * np.array(out) * np.array(labels))\n",
    "\n",
    "            weights = new_weights / new_weights.sum() # Normalização\n",
    "            model.append( (alpha, selected_stump) )\n",
    "            closed_set.add(selected_stump)\n",
    "            \n",
    "\n",
    "        self.model = model\n",
    "        \n",
    "    def predict(self, data):\n",
    "        out = np.zeros(len(data))\n",
    "        for alpha_stump in self.model:\n",
    "            h = alpha_stump[0] * np.array(predict_stump(data, alpha_stump[1]))\n",
    "            out = out + h\n",
    "        \n",
    "        for i in range(len(out)):\n",
    "            if out[i] >=0:\n",
    "                out[i] = 1\n",
    "            else:\n",
    "                out[i] = -1\n",
    "        return out\n",
    "    \n",
    "    def calc_accuracy(self, data, labels):\n",
    "        preds = self.predict(data)\n",
    "\n",
    "        errors = np.abs(preds - np.array(labels))/2\n",
    "        loss = errors.sum() / len(errors)\n",
    "        return 1 - loss\n",
    "\n",
    "        \n",
    "        \n",
    "    "
   ]
  },
  {
   "cell_type": "code",
   "execution_count": 21,
   "metadata": {},
   "outputs": [
    {
     "name": "stdout",
     "output_type": "stream",
     "text": [
      "Interação: 0 \t Stump: (2, 'N', -1)  \t Erro: 0.2 \t Alpha: 0.6931471805599453\n",
      "Interação: 1 \t Stump: (0, 'N', -1)  \t Erro: 0.25 \t Alpha: 0.5493061443340549\n",
      "Interação: 2 \t Stump: (1, 'N', -1)  \t Erro: 0.29166666666666663 \t Alpha: 0.44365159750045147\n",
      "Interação: 3 \t Stump: ('T', 0, 0)  \t Erro: 0.27731092436974786 \t Alpha: 0.4789198673935139\n",
      "Acurácia = 0.8\n"
     ]
    }
   ],
   "source": [
    "# Pequeno dataset para testar a implementação\n",
    "vampires_dataset = {\n",
    "    'labels': [1,1,1,1,1,1,1,-1,-1,-1],\n",
    "    'data': [\n",
    "                ['N', 'Y', 'Y'],\n",
    "                ['Y', 'Y', 'Y'],\n",
    "                ['Y', 'N', 'N'],\n",
    "                ['Y', 'N', 'Y'],\n",
    "                ['Y', 'N', 'Y'],\n",
    "                ['N', 'Y', 'Y'],\n",
    "                ['N', 'Y', 'Y'],\n",
    "                ['N', 'Y', 'N'],\n",
    "                ['Y', 'N', 'N'],\n",
    "                ['N', 'N', 'Y'],\n",
    "            ],\n",
    "    'categories': ['N', 'Y']\n",
    "}\n",
    "\n",
    "model =  CategoricalBoosting(categories=vampires_dataset['categories'], num_iter=4, verbose=True)\n",
    "\n",
    "model.fit(vampires_dataset['data'], vampires_dataset['labels'])\n",
    "\n",
    "acc = model.calc_accuracy(vampires_dataset['data'], vampires_dataset['labels'])\n",
    "\n",
    "print('Acurácia = {}'.format(acc))"
   ]
  },
  {
   "cell_type": "markdown",
   "metadata": {},
   "source": [
    "## Treinando e validando o modelo\n",
    "\n",
    "Para fazer o treinamento e para verificar a qualidade do modelo está sendo utilizado a validação cruzada. Nos experimentos, por padrão, está sendo utilizada a validação com 5 folds."
   ]
  },
  {
   "cell_type": "code",
   "execution_count": 22,
   "metadata": {},
   "outputs": [
    {
     "name": "stdout",
     "output_type": "stream",
     "text": [
      "Acurácia = 0.84375\n",
      "Acurácia = 0.8802083333333334\n",
      "Acurácia = 0.8743455497382199\n",
      "Acurácia = 0.8229166666666666\n",
      "Acurácia = 0.774869109947644\n",
      "Validação cruzada: 0.8392179319371728\n"
     ]
    },
    {
     "data": {
      "text/plain": [
       "0.8392179319371728"
      ]
     },
     "execution_count": 22,
     "metadata": {},
     "output_type": "execute_result"
    }
   ],
   "source": [
    "class CrossValidation():\n",
    "    def __init__(self, data, labels, folds=5):\n",
    "        self.folds = folds\n",
    "        self.data = data\n",
    "        self.labels = labels\n",
    "        self.length = len(data)\n",
    "        self.fold_length = self.length / folds\n",
    "        self.idx = np.arange(self.length )\n",
    "        np.random.seed(1000)\n",
    "        np.random.shuffle(self.idx)\n",
    "        self.idx = list(self.idx)\n",
    "        # print(self.idx[0:5])\n",
    "        \n",
    "        \n",
    "    def get_fold(self, fold):\n",
    "        # Calcula os indices iniciais e finais do fold\n",
    "        fi = int(np.ceil(fold*self.fold_length))\n",
    "        ff = int(np.ceil((fold+1)*self.fold_length))\n",
    "        train_idx = self.idx[:fi] + self.idx[ff:]\n",
    "        val_idx = self.idx[fi:ff]\n",
    "        \n",
    "        # Divide os dados em treino e validação de acordo com o fold\n",
    "        train_data = [self.data[i] for i in train_idx] \n",
    "        train_labels = [self.labels[i] for i in train_idx] \n",
    "        \n",
    "        val_data = [self.data[i] for i in val_idx] \n",
    "        val_labels = [self.labels[i] for i in val_idx] \n",
    "        \n",
    "        return train_data, train_labels, val_data, val_labels\n",
    "        \n",
    "def run_experiment(data, labels, num_iter = None, verbose=False):     \n",
    "    folds = 5\n",
    "    cross = CrossValidation(data, labels, folds=folds)\n",
    "    fold_accuracy = []\n",
    "\n",
    "    for i in range(folds):\n",
    "        train_data, train_labels, val_data, val_labels = cross.get_fold(i)\n",
    "\n",
    "        model =  CategoricalBoosting(num_iter=num_iter)\n",
    "        model.fit(train_data, train_labels)\n",
    "        acc = model.calc_accuracy(val_data, val_labels)\n",
    "        fold_accuracy.append(acc)\n",
    "        if verbose:\n",
    "            print('Acurácia = {}'.format(acc))\n",
    "\n",
    "    #Para calcular a validação cruzada tiro a média da acurácia de cada fold\n",
    "    cross_validation_accuracy = np.array(fold_accuracy).sum() / folds\n",
    "    if verbose:\n",
    "        print('Validação cruzada: {}'.format(cross_validation_accuracy) )\n",
    "    return cross_validation_accuracy\n",
    "        \n",
    "run_experiment(data, labels, verbose=True)"
   ]
  },
  {
   "cell_type": "markdown",
   "metadata": {},
   "source": [
    "# Resultados\n",
    "\n",
    "Para avaliar o desempenho e selecionar o hiperparametro, o treinamento está sendo executado várias vezes. Uma para cada número de stumps. Foram executados 100 experimentos variando o número de estimadores. Como o número de estimadores e maior que o número de stumps possíveis, existe repetição do estimador.\n",
    "\n",
    "O resultado pode ser visto no gráfico abaixo, mostrando a acurácia para cada um dos valores do parâmetro de número de iterações."
   ]
  },
  {
   "cell_type": "code",
   "execution_count": 30,
   "metadata": {},
   "outputs": [
    {
     "data": {
      "image/png": "[encoded data removed]",
      "text/plain": [
       "<Figure size 432x288 with 1 Axes>"
      ]
     },
     "metadata": {
      "needs_background": "light"
     },
     "output_type": "display_data"
    }
   ],
   "source": [
    "num_iterations = []\n",
    "accuracies=[]\n",
    "\n",
    "for i in range(5, 400,10):\n",
    "    acc = run_experiment(data, labels, num_iter=i)\n",
    "    num_iterations.append(i)\n",
    "    accuracies.append(acc)\n",
    "\n",
    "fig, ax = plt.subplots()\n",
    "ax.plot(np.array(num_iterations), np.array(accuracies))\n",
    "\n",
    "ax.set(xlabel='Número de estimadores', ylabel='Precisão',\n",
    "       title='Variação da precisão do modelo \\nde acordo com o número estimadores')\n",
    "ax.grid()\n",
    "\n",
    "plt.show()"
   ]
  },
  {
   "cell_type": "code",
   "execution_count": 29,
   "metadata": {},
   "outputs": [
    {
     "name": "stdout",
     "output_type": "stream",
     "text": [
      "Melhor desempenho 0.981217277486911\n"
     ]
    }
   ],
   "source": [
    "print('Melhor desempenho {}'.format(np.max(accuracies[-1]) ))"
   ]
  },
  {
   "cell_type": "markdown",
   "metadata": {},
   "source": [
    "Como pode ser visto no gráfico acima, o desempenho cresce com número de estimadores até o limite de aproximadamente 98%. Aumentar a complexidade do modelo não gerou overfitting como era de se esperar."
   ]
  },
  {
   "cell_type": "code",
   "execution_count": null,
   "metadata": {},
   "outputs": [],
   "source": []
  },
  {
   "cell_type": "code",
   "execution_count": null,
   "metadata": {},
   "outputs": [],
   "source": []
  }
 ],
 "metadata": {
  "kernelspec": {
   "display_name": "Python 3",
   "language": "python",
   "name": "python3"
  },
  "language_info": {
   "codemirror_mode": {
    "name": "ipython",
    "version": 3
   },
   "file_extension": ".py",
   "mimetype": "text/x-python",
   "name": "python",
   "nbconvert_exporter": "python",
   "pygments_lexer": "ipython3",
   "version": "3.8.5"
  }
 },
 "nbformat": 4,
 "nbformat_minor": 4
}
