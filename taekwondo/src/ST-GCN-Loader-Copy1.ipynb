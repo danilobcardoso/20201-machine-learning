{
 "cells": [
  {
   "cell_type": "code",
   "execution_count": 1,
   "metadata": {},
   "outputs": [],
   "source": [
    "import preprocessing.read as r\n",
    "import preprocessing.st_ops as ops\n",
    "import preprocessing.feature_ops as feat\n",
    "import visualization.builders as vis\n",
    "\n",
    "import torch\n",
    "import torch.nn.functional as F\n",
    "import torch.nn as nn\n",
    "\n",
    "from torchvision import transforms, utils\n",
    "\n",
    "from torch_geometric.data import Data\n",
    "from torch_geometric.data import Batch\n",
    "from torch_geometric.nn import GCNConv, ChebConv, SAGEConv\n",
    "from torch_scatter import scatter_mean\n",
    "\n",
    "import matplotlib\n",
    "from matplotlib import pyplot as plt\n",
    "from matplotlib.animation import FuncAnimation\n",
    "\n",
    "from IPython.display import clear_output, display, HTML\n",
    "\n",
    "import numpy as np\n",
    "from numpy import inf\n",
    "\n",
    "from sklearn.model_selection import KFold\n",
    "from scipy.spatial.transform import Rotation as R\n",
    "from scipy import stats\n",
    "\n",
    "from pythreejs import *\n",
    "\n",
    "from math import pi\n",
    "\n",
    "from tqdm import tqdm\n",
    "import pdb\n"
   ]
  },
  {
   "cell_type": "markdown",
   "metadata": {},
   "source": [
    "# Introdução\n",
    "\n",
    "Uma importante área de pesquisa no ramo de aprendizado de máquina, específicamente no tema visão computacional, é o a analise do movimento de uma pessoa. Diversos trabalhos tem sido publicados com diferentes estratégias. Uma estratégia que tem apresentado bons resultados é a análise do movimento observando não diretamente a imagem, mas o esqueleto da pessoa extraído da imagem. O uso de esqueletos, ou grafos, representando a pose humana diversas vantagens sobre a abordagem no domínio das imagens. Esqueletos são robustos à variações de luminosidade, diferentes configurações de cena e preservam o anonimato da pessoa avaliada. Além disso, o corpo humano é naturalmente modelado como um grafo, com juntas e ossos correspondendo aos vértices e arestas, conforme ilustrado na figura abaixo.\n",
    "\n",
    "![title](skeleton_model.png)\n",
    "\n",
    "Apesar do seu grande poder de representação, a utilização de grafos em redes de aprendizado profundo era até bem recentemente um desafio. Por ser uma estrutura muito flexível, não havia forma de fornecer o grafo diretamente como entrada para a rede, sendo necessário um esforço de engenharia de dados antes em busca de representações sobre o qual se poderia basear o aprendizado. Normalmente a engenharia consistia em extrair estatísticas do grafo, seja analisando ele como um todo, seja amostrando pedaços do grafo e construindo estatísticas. \n",
    "\n",
    "\n",
    "Recentemente, no entanto, as dificuldades foram em grande parte superadas, com o desenvolvimento das redes de convolução em grafos (GCN). Uma forma de interpretar as GCNs é vê-las como arquiteturas generalizam a operação de convolução que atualmente é amplamente utilizada em imagens, para estruturas de dados pouco estruturadas (formalmente, que estão no espaço não-euclidiano), como os grafos. A figura abaixo ilustra a diferença de operações entre o espaço euclidiano e o espaço não-euclidiano.\n",
    "\n",
    "![title](gcn_comparison.png)\n",
    "\n",
    "As GCNs extraem informações dos dados utilizando uma abordagem de \"transmissão de mensagens\", onde cada nó agrega informações de seus vizinhos para gerar representações mais complexas e eventualmente discriminativas. Grafos são dados relacionais sem natureza espacial pré-definida, portanto é necessário definir operações invariantes à ordem dos vértices e tamanho do grafo, generalizando para diferentes conjuntos. (Citar Kipf)\n",
    "\n",
    "No contexto de análise de movimento, um salto de performance foi alcançado com a aplicação de um modelo espaço temporal que representa as poses de uma pessoa executando um movimento como um grafo. (Citar STGCN)\n",
    "\n",
    "![title](stgcn_graph_model.png)\n",
    "\n",
    "## Objetivo do trabalho\n",
    "\n",
    "O objetivo deste trabalho é aplicar uma arquitetura baseada em camadas de convolução em grafos organizados no modelo espaço-temporais para segmentar uma sequencia de movimentos de um atleta de taekwondo. Esse problema é especialmente interessante porque os movimentos são bastante rápidos o que impoê um desafio para o algoritmo.\n",
    "\n",
    "Além disso, será feito um processo de data augmentation (dado que o dataset tem poucas amostras), uma busca por hiperparametros que obtenham o melhor desempenho e o calculo de algumas métricas para análise final dos resultados."
   ]
  },
  {
   "cell_type": "markdown",
   "metadata": {},
   "source": [
    "# Metodologia\n",
    "\n",
    "As células a seguir trata da execução da metodologia aplicada no trabalho, começando na leitura dos dados, data augmentation, treinamentos e seleção do modelo."
   ]
  },
  {
   "cell_type": "markdown",
   "metadata": {},
   "source": [
    "## Matriz de adjacências e classificação dos vétices\n",
    "\n",
    "Um grafo é uma estrutura muito flexível. Porém no caso de poses e esqueletos a estrutura não é completamente arbitrária, por isso é possível atribuir classes aos vétices e considerar a conexões na hora organizar os dados. As células abaixo consolidam estas informações através da matriz de adjacências e atraves da partição dos vértices em grupos. Estes grupos serão usados como hiperparâmetros no treinamento em busca dos melhores resultados.\n",
    "\n",
    "![title](partition_stategies.png)\n",
    "\n"
   ]
  },
  {
   "cell_type": "code",
   "execution_count": 2,
   "metadata": {},
   "outputs": [],
   "source": [
    "adj_list = {\n",
    "    0: [3, 7, 15, 6],\n",
    "    1: [3, 8, 15, 6],\n",
    "    2: [15, 6],\n",
    "    3: [0, 1, 4, 5, 15, 6],\n",
    "    4: [3, 5, 12, 6],\n",
    "    5: [3, 4, 11, 6],\n",
    "    6: [0, 1, 2, 3, 4, 5, 7, 8, 9, 10, 11, 12, 13, 14, 15],\n",
    "    7: [0, 9, 6],\n",
    "    8: [1, 10, 6],\n",
    "    9: [7, 6],\n",
    "    10: [8, 6],\n",
    "    11: [5, 13, 6],\n",
    "    12: [4, 14, 6],\n",
    "    13: [11, 6],\n",
    "    14: [12, 6],\n",
    "    15: [0, 1, 2, 3, 6]\n",
    "}"
   ]
  },
  {
   "cell_type": "code",
   "execution_count": 3,
   "metadata": {},
   "outputs": [],
   "source": [
    "joint_map = {\n",
    "            2: ('head', 0, 2),\n",
    "            15: ('neck', 0, 1),\n",
    "            3: ('chest', 0, 0),\n",
    "            6: ('aggregator', 3, 0),\n",
    "            0: ('left_shoulder', 1, 1),\n",
    "            7: ('left_elbow', 1, 2),\n",
    "            9: ('left_hand', 1, 3),\n",
    "            1: ('right_shoulder', 2, 1),\n",
    "            8: ('right_elbow', 2, 2),\n",
    "            10: ('right_hand', 2, 3),\n",
    "            4: ('right_rib', 4, 1),\n",
    "            12: ('right_knee', 4, 2),\n",
    "            14: ('right_foot', 4, 3),\n",
    "            5: ('left_rib', 5, 1),\n",
    "            11: ('left_knee', 5, 2),\n",
    "            13: ('left_foot', 5, 3)\n",
    "        }"
   ]
  },
  {
   "cell_type": "markdown",
   "metadata": {},
   "source": [
    "## Leitura dos dados \n",
    "\n",
    "A leitura dos dados é feita do arquivo texto obtendo de cada atleta os movimentos por ele realizados e a sequencia de poses que compoêm cada um dos movimentos.\n",
    "\n",
    "Cada arquivo contem uma sequência de movimento e sua classe. As posições estão codificadas no espaço tridimensional (o dados inclui a informação de profundidade, além da posição do vértice na imagem)."
   ]
  },
  {
   "cell_type": "code",
   "execution_count": 4,
   "metadata": {},
   "outputs": [
    {
     "name": "stdout",
     "output_type": "stream",
     "text": [
      "{'Back Kick', 'Right Kick', 'Left Kick', 'Left Punch', 'Left Kick To The Head', 'Right Punch', 'Right Kick To The Head'}\n",
      "Athlete  1\n",
      "\tBack Kick -> 59 frames\n",
      "\tLeft Kick -> 46 frames\n",
      "\tLeft Kick To The Head -> 46 frames\n",
      "\tLeft Punch -> 52 frames\n",
      "\tRight Kick -> 39 frames\n",
      "\tRight Kick To The Head -> 44 frames\n",
      "\tRight Punch -> 39 frames\n",
      "\n",
      "{'Back Kick': 0, 'Right Kick': 1, 'Left Kick': 2, 'Left Punch': 3, 'Left Kick To The Head': 4, 'Right Punch': 5, 'Right Kick To The Head': 6}\n"
     ]
    }
   ],
   "source": [
    "loader = r.TaekwondoLoader('../dataset')\n",
    "athletes, labels, label_idx = loader.load();\n",
    "print(labels)\n",
    "print(athletes[0])\n",
    "print(label_idx)\n",
    "\n",
    "l = { idx: key for (idx, key) in enumerate(labels)}"
   ]
  },
  {
   "cell_type": "code",
   "execution_count": 5,
   "metadata": {},
   "outputs": [
    {
     "name": "stdout",
     "output_type": "stream",
     "text": [
      "[[-229.942017  253.953644 2903.552979]\n",
      " [-491.672302  189.638153 2722.373779]\n",
      " [-453.201721  402.679749 2900.073975]\n",
      " [-262.11554    42.670216 2733.980957]\n",
      " [-244.774506 -156.445908 2598.684814]\n",
      " [ -82.073326 -116.465034 2711.312256]\n",
      " [   0.          0.          0.      ]\n",
      " [-236.119675  -33.206268 2906.921631]\n",
      " [-593.810486   35.328247 2441.401123]\n",
      " [-265.950684 -311.276306 2841.366455]\n",
      " [-744.391907 -168.335159 2338.715088]\n",
      " [ 160.622986 -354.203796 2742.690918]\n",
      " [-214.757355 -578.734924 2649.479248]\n",
      " [ 209.81601  -398.764923 2635.569824]\n",
      " [-120.168457 -858.127869 2567.926025]\n",
      " [-360.807159  221.795898 2812.963379]]\n",
      "(16, 3)\n",
      "Formato atual [V C]\n"
     ]
    }
   ],
   "source": [
    "# Formato do dado de uma pose. \n",
    "frame = athletes[0].get('Back Kick')[0]\n",
    "print(frame)\n",
    "print(frame.shape)\n",
    "print('Formato atual [V C]')"
   ]
  },
  {
   "cell_type": "code",
   "execution_count": 6,
   "metadata": {},
   "outputs": [
    {
     "name": "stdout",
     "output_type": "stream",
     "text": [
      "(59, 16, 3)\n",
      "Formato atual [F V C]\n"
     ]
    }
   ],
   "source": [
    "# Forma do dado de uma classe\n",
    "\n",
    "frame = athletes[0].get('Back Kick')\n",
    "print(frame.shape)\n",
    "print('Formato atual [F V C]')"
   ]
  },
  {
   "cell_type": "code",
   "execution_count": 7,
   "metadata": {},
   "outputs": [
    {
     "name": "stdout",
     "output_type": "stream",
     "text": [
      "[[-0.25814995  0.61461437  1.65699537]\n",
      " [-0.57786564  0.53605001  1.43567657]\n",
      " [-0.53087204  0.79629021  1.65274561]\n",
      " [-0.2974514   0.35652185  1.44985527]\n",
      " [-0.27626852  0.11329226  1.28458475]\n",
      " [-0.07752148  0.16213075  1.4221644 ]\n",
      " [ 0.0227349   0.3043982  -1.8898294 ]\n",
      " [-0.26569625  0.2638352   1.66111034]\n",
      " [-0.70263218  0.34755329  1.09245542]\n",
      " [-0.30213621 -0.07584026  1.58103164]\n",
      " [-0.88657437  0.09876899  0.96701966]\n",
      " [ 0.21894333 -0.12827818  1.46049489]\n",
      " [-0.23960118 -0.40255338  1.34663251]\n",
      " [ 0.2790349  -0.18271167  1.3296415 ]\n",
      " [-0.12405645 -0.74384483  1.24701146]\n",
      " [-0.4180078   0.57533219  1.54633597]]\n",
      "(16, 3)\n",
      "Formato atual [V C]\n"
     ]
    }
   ],
   "source": [
    "# Ajuste de escala do dado para que fique entre [-1, 1]. Não é uma normalização do dataset. Cada atleta é ajustado \n",
    "# individualmente de forma que não existe vazamento de informação entre os atletas.\n",
    "\n",
    "for athlete in athletes:\n",
    "\n",
    "    min_y = float(\"inf\")\n",
    "    max_y = -float(\"inf\")\n",
    "    min_x = float(\"inf\")\n",
    "    max_x = -float(\"inf\")\n",
    "    min_z = float(\"inf\")\n",
    "    max_z = -float(\"inf\")\n",
    "\n",
    "    for label in labels:\n",
    "        activity = athlete.get(label)\n",
    "        min_x = min(min_x, activity[:,:,0].min())\n",
    "        max_x = max(max_x, activity[:,:,0].max())\n",
    "        min_y = min(min_y, activity[:,:,1].min())\n",
    "        max_y = max(max_y, activity[:,:,1].max())\n",
    "        min_z = min(min_z, activity[:,:,2].min())\n",
    "        max_z = max(max_z, activity[:,:,2].max())\n",
    "\n",
    "    scale = (max_y - min_y)/2  # A mesma escala será usada nas 3 dimensões para preservar proporção\n",
    "    move_x = -(min_x + max_x)/2\n",
    "    move_y = -(min_y + max_y)/2\n",
    "    move_z = -(min_z + max_z)/2\n",
    "\n",
    "    for label in labels:\n",
    "        activity = athlete.get(label)\n",
    "        activity[:,:,0] = (activity[:,:,0] + move_x)/scale\n",
    "        activity[:,:,1] = (activity[:,:,1] + move_y)/scale\n",
    "        activity[:,:,2] = (activity[:,:,2] + move_z)/scale\n",
    "        \n",
    "frame = athletes[0].get('Back Kick')[0]\n",
    "print(frame)\n",
    "print(frame.shape)\n",
    "print('Formato atual [V C]')"
   ]
  },
  {
   "cell_type": "markdown",
   "metadata": {},
   "source": [
    "## Data augmentation\n",
    "\n",
    "Como o dataset é pequeno e trata-se de uma arquitetura com muitos parâmetros, um desafio natual é controlar o overfitting. O código abaixo executa o processo de data augmentation com esse objetivo. \n",
    "\n",
    "No data augmentation são aplicadas pequenas rotações (no máximo +-30 graus em torno do eixo vertical), ruídos nos posicionamentos dos vétices e pequenas mudanças nas escalas."
   ]
  },
  {
   "cell_type": "code",
   "execution_count": 8,
   "metadata": {},
   "outputs": [],
   "source": [
    "def data_augmentation(athletes, rotate=True, noise=True, rotation_angle=50, noise_intensity=0.1):  \n",
    "    n_athletes = len(athletes)\n",
    "    \n",
    "    for base_idx in range(n_athletes):\n",
    "        angle = np.random.randint(rotation_angle) - (rotation_angle/2)\n",
    "        scale_noise = (2*np.random.random() - 1)  * noise_intensity\n",
    "        base_athlete = athletes[base_idx]\n",
    "        for label, base_activity in base_athlete.activities.items():\n",
    "            base_sample = base_activity[0] ## Original sample\n",
    "            if rotate:\n",
    "                base_sample = feat.rotate(base_sample, angle)\n",
    "            if noise:\n",
    "                base_sample = feat.apply_noise(base_sample, noise_intensity)\n",
    "                base_sample = feat.scale_noise(base_sample, scale_noise)\n",
    "            athletes[base_idx].add(label, base_sample)"
   ]
  },
  {
   "cell_type": "code",
   "execution_count": 9,
   "metadata": {},
   "outputs": [
    {
     "name": "stdout",
     "output_type": "stream",
     "text": [
      "Quantidade de movimentos por classe: 1\n",
      "Quantidade de movimentos por classe: 501\n"
     ]
    }
   ],
   "source": [
    "new_samples_per_athlete = 500\n",
    "\n",
    "print(\"Quantidade de movimentos por classe: {}\".format(len(athletes[0].activities['Back Kick'])))\n",
    "for i in range(new_samples_per_athlete):\n",
    "    data_augmentation(athletes, rotation_angle=40, noise_intensity=0.2)\n",
    "print(\"Quantidade de movimentos por classe: {}\".format(len(athletes[0].activities['Back Kick'])))"
   ]
  },
  {
   "cell_type": "markdown",
   "metadata": {},
   "source": [
    "## Definição do objeto dataset"
   ]
  },
  {
   "cell_type": "code",
   "execution_count": 10,
   "metadata": {},
   "outputs": [],
   "source": [
    "from torch.utils.data import Dataset, DataLoader\n",
    "\n",
    "class TaekwondoDataset(Dataset):\n",
    "    \n",
    "    def __init__(self, athletes, transform=None):\n",
    "\n",
    "        self.transform = transform\n",
    "        self.athletes = []\n",
    "        for base_athlete in athletes:\n",
    "            labels = list(base_athlete.activities.keys())\n",
    "            n_samples = len(base_athlete.activities[labels[0]])\n",
    "            for sample_idx in range(n_samples):\n",
    "                new_athlete = r.TaekwondoAthlete(0, parent = base_athlete)   \n",
    "                for label in labels:\n",
    "                    frames = base_athlete.get(label, sample_idx)\n",
    "                    new_athlete.add(label, frames)\n",
    "                self.athletes.append(new_athlete)\n",
    "            \n",
    "        self.athletes = np.array(self.athletes)\n",
    "        # print('Dataset size: {}'.format(len(self.athletes))) \n",
    "\n",
    "        \n",
    "\n",
    "    def __len__(self):\n",
    "        return len(self.athletes)\n",
    "\n",
    "    def __getitem__(self, idx):\n",
    "        if torch.is_tensor(idx):\n",
    "            idx = idx.tolist()\n",
    "            \n",
    "        sample = self.athletes[idx] \n",
    "        \n",
    "        if self.transform:\n",
    "            sample = self.transform(sample)\n",
    "        return sample"
   ]
  },
  {
   "cell_type": "code",
   "execution_count": 11,
   "metadata": {},
   "outputs": [],
   "source": [
    "class BuildTaekwondoSequence(object):\n",
    "    def __init__(self, label_idx, max_lenght=None, shuffle_sequence=False):\n",
    "        self.label_idx = label_idx\n",
    "        self.max_lenght = max_lenght\n",
    "        self.shuffle_sequence = shuffle_sequence\n",
    "\n",
    "    def __call__(self, sample):\n",
    "        labels = list(sample.activities.keys())\n",
    "        if self.shuffle_sequence:\n",
    "            np.random.shuffle(labels)\n",
    "        \n",
    "        sequence_frames = []\n",
    "        sequence_labels = []\n",
    "        for label in labels:\n",
    "            frames = sample.get(label)\n",
    "            sequence_frames.append(frames)\n",
    "            sequence_labels.append(np.ones(frames.shape)[:,:,0]*self.label_idx[label])\n",
    "            \n",
    "        sequence_frames = np.concatenate( sequence_frames )\n",
    "        sequence_labels = np.concatenate( sequence_labels )\n",
    "        if self.max_lenght:\n",
    "            sequence_frames = sequence_frames[:self.max_lenght]\n",
    "            sequence_labels = sequence_labels[:self.max_lenght]\n",
    "        \n",
    "\n",
    "        return {'frames': sequence_frames, 'labels': sequence_labels}"
   ]
  },
  {
   "cell_type": "code",
   "execution_count": 13,
   "metadata": {},
   "outputs": [],
   "source": [
    "class UnfoldActivityFeatures(object):\n",
    "    def __init__(self, num_nodes):\n",
    "        self.num_nodes = num_nodes\n",
    "\n",
    "    def __call__(self, sample):\n",
    "        frames = sample['frames']\n",
    "        num_frames = frames.shape[0]\n",
    "        num_nodes = frames.shape[1]\n",
    "        num_dim = frames.shape[2]\n",
    "        res = np.zeros((num_frames, num_nodes, self.num_nodes*num_dim))\n",
    "        for frame_idx in range(num_frames):\n",
    "            for node_idx in range(num_nodes):\n",
    "                res[frame_idx, node_idx, num_dim*node_idx:num_dim*(node_idx+1)] = frames[frame_idx, node_idx]\n",
    "\n",
    "        return {'frames': res, 'labels': sample['labels']}"
   ]
  },
  {
   "cell_type": "code",
   "execution_count": 14,
   "metadata": {},
   "outputs": [],
   "source": [
    "class ToSTGcn(object):\n",
    "    def __call__(self, sample):\n",
    "        frames = sample['frames']\n",
    "        return {'frames': frames.transpose((2, 0, 1)), 'labels': sample['labels']}"
   ]
  },
  {
   "cell_type": "markdown",
   "metadata": {},
   "source": [
    "## Criação das matrizes de adjacências\n",
    "\n",
    "Os métodos abaixo criam as matrizes de adjacências de acordo com as estratégias de partição. Cada partição gera uma matriz, na prática organizando a pose em um multigrafo."
   ]
  },
  {
   "cell_type": "code",
   "execution_count": 15,
   "metadata": {},
   "outputs": [],
   "source": [
    "def get_adjacency_by_group(num_node, adj_list, joint_map):\n",
    "    kernel_size = 6\n",
    "    adj_matrix = np.zeros((kernel_size, num_node, num_node))\n",
    "\n",
    "    for node_idx in range(num_node):\n",
    "        part, kernel_idx, center_distance = joint_map[node_idx]\n",
    "        for neigh_idx in adj_list[node_idx]:\n",
    "            adj_matrix[kernel_idx, node_idx, neigh_idx] = 1\n",
    "\n",
    "    norm_coeficient = np.einsum('knm->km', adj_matrix)\n",
    "    norm_coeficient = 1/norm_coeficient\n",
    "    norm_coeficient[norm_coeficient == inf] = 0\n",
    "\n",
    "    temp = np.einsum('knm->kmn', adj_matrix)\n",
    "    for k in range(kernel_size):\n",
    "        for n in range(num_node):\n",
    "            temp[k, n, :] = temp[k, n, :] * norm_coeficient[k, n]\n",
    "    adj_matrix = np.einsum('kmn->knm', temp)\n",
    "    return adj_matrix, adj_matrix.shape[0]"
   ]
  },
  {
   "cell_type": "code",
   "execution_count": 16,
   "metadata": {},
   "outputs": [],
   "source": [
    "\n",
    "def get_adjacency_by_distance(num_node, adj_list, joint_map):\n",
    "    kernel_size = 3\n",
    "    adj_matrix = np.zeros((kernel_size, num_node, num_node))\n",
    "\n",
    "    for node_idx in range(num_node):\n",
    "        s_part, s_kernel_idx, s_center_distance = joint_map[node_idx]\n",
    "        for neigh_idx in adj_list[node_idx]:\n",
    "            t_part, t_kernel_idx, t_center_distance = joint_map[neigh_idx]\n",
    "            if s_center_distance < t_center_distance:  \n",
    "                adj_matrix[0, node_idx, neigh_idx] = 1\n",
    "            elif s_center_distance > t_center_distance:  \n",
    "                adj_matrix[1, node_idx, neigh_idx] = 1\n",
    "            elif s_center_distance == t_center_distance:  \n",
    "                adj_matrix[2, node_idx, neigh_idx] = 1\n",
    "\n",
    "    norm_coeficient = np.einsum('knm->km', adj_matrix)\n",
    "    \n",
    "    norm_coeficient = 1/norm_coeficient\n",
    "    norm_coeficient[norm_coeficient == inf] = 0\n",
    "\n",
    "    temp = np.einsum('knm->kmn', adj_matrix)\n",
    "    for k in range(kernel_size):\n",
    "        for n in range(num_node):\n",
    "            temp[k, n, :] = temp[k, n, :] * norm_coeficient[k, n]\n",
    "    adj_matrix = np.einsum('kmn->knm', temp)\n",
    "    return adj_matrix, 3"
   ]
  },
  {
   "cell_type": "code",
   "execution_count": 17,
   "metadata": {},
   "outputs": [],
   "source": [
    "class ST_GCN(nn.Module):\n",
    "    def __init__(self, in_channels, out_channels, kernel_size = 1):\n",
    "        super().__init__()\n",
    "        self.kernel_size = kernel_size\n",
    "        self.t_kernel_size = 5\n",
    "        self.t_padding = 2\n",
    "        self.conv = nn.Conv2d(in_channels,\n",
    "                              out_channels * kernel_size,\n",
    "                              kernel_size=(self.t_kernel_size, 1),\n",
    "                              padding=(self.t_padding, 0),\n",
    "                              stride=(1, 1),\n",
    "                              dilation=(1, 1),\n",
    "                              bias=True)\n",
    "    \n",
    "    def forward(self, x, A):\n",
    "        assert A.size(0) == self.kernel_size\n",
    "\n",
    "        x = self.conv(x)\n",
    "\n",
    "        n, kc, t, v = x.size()\n",
    "        x = x.view(n, self.kernel_size, kc // self.kernel_size, t, v)\n",
    "        x = torch.einsum('nkctv,kvw->nctw', (x, A))\n",
    "\n",
    "        return x.contiguous(), A"
   ]
  },
  {
   "cell_type": "code",
   "execution_count": 18,
   "metadata": {},
   "outputs": [],
   "source": [
    "def get_accuracy(out_tensor, labels_tensor):\n",
    "    out_np = out_tensor.detach().cpu().numpy()\n",
    "    out_np = np.array(np.argmax(out_np, axis=1))\n",
    "\n",
    "    labels_np = np.array(labels_tensor.cpu().numpy())\n",
    "    corrects = np.array(out_np == labels_np)\n",
    "    \n",
    "    \n",
    "\n",
    "    return result"
   ]
  },
  {
   "cell_type": "code",
   "execution_count": 19,
   "metadata": {},
   "outputs": [],
   "source": [
    "def get_accuracy(out_tensor, labels_tensor):\n",
    "    \n",
    "    preds = torch.argmax(out_tensor, dim=1)\n",
    "    results = torch.eq(preds, labels_tensor)\n",
    "    accuracy = torch.true_divide( torch.sum(results), results.size()[0] * results.size()[1] * results.size()[2])\n",
    "    return accuracy"
   ]
  },
  {
   "cell_type": "code",
   "execution_count": 20,
   "metadata": {},
   "outputs": [],
   "source": [
    "class SegmentationNet(torch.nn.Module):\n",
    "    def __init__(self, input_size):\n",
    "        super(SegmentationNet, self).__init__()\n",
    "        self.kernel_size = 1\n",
    "        self.conv1 = ST_GCN(input_size, 8, kernel_size)\n",
    "        self.conv2 = ST_GCN(8, 8, kernel_size)\n",
    "        self.conv3 = ST_GCN(8, 4, kernel_size)\n",
    "        self.conv4 = ST_GCN(4, 7, kernel_size)\n",
    "        \n",
    "    def forward(self, x, A):\n",
    "        x, A = self.conv1(x, A) \n",
    "        x = F.relu(x)\n",
    "        x = F.dropout(x, training=self.training)\n",
    "        x, A = self.conv2(x, A)\n",
    "        x = F.relu(x)\n",
    "        x = F.dropout(x, training=self.training)\n",
    "        x, A = self.conv3(x, A)\n",
    "        x = F.relu(x)\n",
    "        x = F.dropout(x, training=self.training)\n",
    "        x, A = self.conv4(x, A)\n",
    "        x = F.relu(x)\n",
    "        return F.softmax(x)"
   ]
  },
  {
   "cell_type": "code",
   "execution_count": 22,
   "metadata": {},
   "outputs": [],
   "source": [
    "def train(athletes, transform, adjacency, input_size, epochs=30):\n",
    "    \n",
    "    device = torch.device('cuda')\n",
    "    A = torch.from_numpy(adjacency).to(device, dtype=torch.float)\n",
    "\n",
    "    kf = KFold(n_splits=5, shuffle=True)\n",
    "    \n",
    "    results = []\n",
    "    for train_idxs, val_idxs in kf.split(athletes):\n",
    "        \n",
    "        fold_results = {}\n",
    "        \n",
    "        train_athletes = [athletes[i] for i in train_idxs ]\n",
    "        validation_athletes = [athletes[i] for i in val_idxs ]\n",
    "        \n",
    "        train_dataset = TaekwondoDataset(train_athletes, transform=transform)\n",
    "        validation_dataset = TaekwondoDataset(validation_athletes, transform=transform)\n",
    "        \n",
    "        train_dataloader = DataLoader(train_dataset, batch_size=batch_size, shuffle=True)\n",
    "        validation_dataloader = DataLoader(validation_dataset, batch_size=batch_size, shuffle=True)\n",
    "\n",
    "        model = SegmentationNet(input_size).to(device)\n",
    "        optimizer = torch.optim.Adam(model.parameters(), lr=0.01)\n",
    "        model.train()\n",
    "\n",
    "        fold_results['train_loss'] = []\n",
    "        fold_results['validation_acc'] = []\n",
    "        \n",
    "        pbar = tqdm(range(epochs))\n",
    "        validation_accuracy = 0\n",
    "\n",
    "        for epoch in pbar:\n",
    "            loss_accum = 0\n",
    "            for samples in train_dataloader:\n",
    "                data = samples['frames'].to(device, dtype=torch.float)\n",
    "                labels = samples['labels'].to(device, dtype=torch.long)\n",
    "\n",
    "                optimizer.zero_grad()\n",
    "\n",
    "                out = model(data, A)\n",
    "                loss = F.cross_entropy(out, labels)\n",
    "                loss.backward()\n",
    "                optimizer.step()\n",
    "                \n",
    "                total_loss = loss.item()\n",
    "                loss_accum = loss_accum + total_loss\n",
    "            \n",
    "            fold_results['train_loss'].append(loss_accum)\n",
    "\n",
    "\n",
    "            if (epoch + 1) % 5 == 0:\n",
    "                #with torch.no_grad():\n",
    "                model.eval()\n",
    "                num_samples = 0\n",
    "                accum = 0\n",
    "                for samples in validation_dataloader:\n",
    "                    data = samples['frames'].to(device, dtype=torch.float)\n",
    "                    labels = samples['labels'].to(device, dtype=torch.long)\n",
    "                    out = model(data, A)\n",
    "\n",
    "                    accum = accum + get_accuracy(out, labels) * samples['frames'].shape[0]\n",
    "                    num_samples = num_samples + samples['frames'].shape[0]\n",
    "\n",
    "                validation_accuracy = accum/num_samples\n",
    "                fold_results['validation_acc'].append(validation_accuracy.item())\n",
    "                model.train()\n",
    "\n",
    "            pbar.set_description('[{}/{}] Loss: {:.3f} Val_acc:{:.2f}'.format(epoch, epochs, loss_accum, validation_accuracy))\n",
    "        \n",
    "        results.append(fold_results)\n",
    "        break\n",
    "\n",
    "    return results\n",
    "    "
   ]
  },
  {
   "cell_type": "code",
   "execution_count": 23,
   "metadata": {},
   "outputs": [
    {
     "name": "stderr",
     "output_type": "stream",
     "text": [
      "<ipython-input-15-d4acf4c6fdf3>:11: RuntimeWarning: divide by zero encountered in true_divide\n",
      "  norm_coeficient = 1/norm_coeficient\n"
     ]
    },
    {
     "name": "stdout",
     "output_type": "stream",
     "text": [
      "Current hyperparameters: [group], [normal] \n"
     ]
    },
    {
     "name": "stderr",
     "output_type": "stream",
     "text": [
      "  0%|                                                                                          | 0/100 [00:00<?, ?it/s]<ipython-input-20-772584a68022>:22: UserWarning: Implicit dimension choice for softmax has been deprecated. Change the call to include dim=X as an argument.\n",
      "  return F.softmax(x)\n",
      "[99/100] Loss: 20.669 Val_acc:0.63: 100%|████████████████████████████████████████████| 100/100 [05:43<00:00,  3.44s/it]\n",
      "  0%|                                                                                          | 0/100 [00:00<?, ?it/s]"
     ]
    },
    {
     "name": "stdout",
     "output_type": "stream",
     "text": [
      "Current hyperparameters: [group], [unfold] \n"
     ]
    },
    {
     "name": "stderr",
     "output_type": "stream",
     "text": [
      "[99/100] Loss: 20.172 Val_acc:0.64: 100%|██████████████████████████████████████████| 100/100 [1:20:37<00:00, 48.37s/it]\n",
      "<ipython-input-16-6a87f7ceff0b>:18: RuntimeWarning: divide by zero encountered in true_divide\n",
      "  norm_coeficient = 1/norm_coeficient\n",
      "  0%|                                                                                          | 0/100 [00:00<?, ?it/s]"
     ]
    },
    {
     "name": "stdout",
     "output_type": "stream",
     "text": [
      "Current hyperparameters: [distance], [normal] \n"
     ]
    },
    {
     "name": "stderr",
     "output_type": "stream",
     "text": [
      "[99/100] Loss: 24.387 Val_acc:0.61: 100%|████████████████████████████████████████████| 100/100 [06:26<00:00,  3.87s/it]\n"
     ]
    },
    {
     "name": "stdout",
     "output_type": "stream",
     "text": [
      "Current hyperparameters: [distance], [unfold] \n"
     ]
    },
    {
     "name": "stderr",
     "output_type": "stream",
     "text": [
      "[22/100] Loss: 21.731 Val_acc:0.56:  23%|██████████▎                                  | 23/100 [16:28<55:10, 42.99s/it]\n"
     ]
    },
    {
     "ename": "KeyboardInterrupt",
     "evalue": "",
     "output_type": "error",
     "traceback": [
      "\u001b[1;31m---------------------------------------------------------------------------\u001b[0m",
      "\u001b[1;31mKeyboardInterrupt\u001b[0m                         Traceback (most recent call last)",
      "\u001b[1;32m<ipython-input-23-e416a25a55da>\u001b[0m in \u001b[0;36m<module>\u001b[1;34m\u001b[0m\n\u001b[0;32m     27\u001b[0m         \u001b[0mprint\u001b[0m\u001b[1;33m(\u001b[0m\u001b[1;34m'Current hyperparameters: [{}], [{}] '\u001b[0m\u001b[1;33m.\u001b[0m\u001b[0mformat\u001b[0m\u001b[1;33m(\u001b[0m\u001b[0mstrategy\u001b[0m\u001b[1;33m,\u001b[0m\u001b[0mengineering_option\u001b[0m\u001b[1;33m)\u001b[0m \u001b[1;33m)\u001b[0m\u001b[1;33m\u001b[0m\u001b[1;33m\u001b[0m\u001b[0m\n\u001b[0;32m     28\u001b[0m \u001b[1;33m\u001b[0m\u001b[0m\n\u001b[1;32m---> 29\u001b[1;33m         \u001b[0mresults\u001b[0m\u001b[1;33m[\u001b[0m\u001b[1;33m(\u001b[0m\u001b[0mstrategy\u001b[0m\u001b[1;33m,\u001b[0m \u001b[0mengineering_option\u001b[0m\u001b[1;33m)\u001b[0m\u001b[1;33m]\u001b[0m \u001b[1;33m=\u001b[0m \u001b[0mtrain\u001b[0m\u001b[1;33m(\u001b[0m\u001b[0mathletes\u001b[0m\u001b[1;33m,\u001b[0m \u001b[0mtransform\u001b[0m\u001b[1;33m,\u001b[0m \u001b[0madjacency\u001b[0m\u001b[1;33m,\u001b[0m \u001b[0minput_size\u001b[0m\u001b[1;33m,\u001b[0m \u001b[0mepochs\u001b[0m\u001b[1;33m=\u001b[0m\u001b[1;36m100\u001b[0m\u001b[1;33m)\u001b[0m\u001b[1;33m\u001b[0m\u001b[1;33m\u001b[0m\u001b[0m\n\u001b[0m\u001b[0;32m     30\u001b[0m \u001b[1;33m\u001b[0m\u001b[0m\n\u001b[0;32m     31\u001b[0m \u001b[1;33m\u001b[0m\u001b[0m\n",
      "\u001b[1;32m<ipython-input-22-7a5b6501f7eb>\u001b[0m in \u001b[0;36mtrain\u001b[1;34m(athletes, transform, adjacency, input_size, epochs)\u001b[0m\n\u001b[0;32m     32\u001b[0m         \u001b[1;32mfor\u001b[0m \u001b[0mepoch\u001b[0m \u001b[1;32min\u001b[0m \u001b[0mpbar\u001b[0m\u001b[1;33m:\u001b[0m\u001b[1;33m\u001b[0m\u001b[1;33m\u001b[0m\u001b[0m\n\u001b[0;32m     33\u001b[0m             \u001b[0mloss_accum\u001b[0m \u001b[1;33m=\u001b[0m \u001b[1;36m0\u001b[0m\u001b[1;33m\u001b[0m\u001b[1;33m\u001b[0m\u001b[0m\n\u001b[1;32m---> 34\u001b[1;33m             \u001b[1;32mfor\u001b[0m \u001b[0msamples\u001b[0m \u001b[1;32min\u001b[0m \u001b[0mtrain_dataloader\u001b[0m\u001b[1;33m:\u001b[0m\u001b[1;33m\u001b[0m\u001b[1;33m\u001b[0m\u001b[0m\n\u001b[0m\u001b[0;32m     35\u001b[0m                 \u001b[0mdata\u001b[0m \u001b[1;33m=\u001b[0m \u001b[0msamples\u001b[0m\u001b[1;33m[\u001b[0m\u001b[1;34m'frames'\u001b[0m\u001b[1;33m]\u001b[0m\u001b[1;33m.\u001b[0m\u001b[0mto\u001b[0m\u001b[1;33m(\u001b[0m\u001b[0mdevice\u001b[0m\u001b[1;33m,\u001b[0m \u001b[0mdtype\u001b[0m\u001b[1;33m=\u001b[0m\u001b[0mtorch\u001b[0m\u001b[1;33m.\u001b[0m\u001b[0mfloat\u001b[0m\u001b[1;33m)\u001b[0m\u001b[1;33m\u001b[0m\u001b[1;33m\u001b[0m\u001b[0m\n\u001b[0;32m     36\u001b[0m                 \u001b[0mlabels\u001b[0m \u001b[1;33m=\u001b[0m \u001b[0msamples\u001b[0m\u001b[1;33m[\u001b[0m\u001b[1;34m'labels'\u001b[0m\u001b[1;33m]\u001b[0m\u001b[1;33m.\u001b[0m\u001b[0mto\u001b[0m\u001b[1;33m(\u001b[0m\u001b[0mdevice\u001b[0m\u001b[1;33m,\u001b[0m \u001b[0mdtype\u001b[0m\u001b[1;33m=\u001b[0m\u001b[0mtorch\u001b[0m\u001b[1;33m.\u001b[0m\u001b[0mlong\u001b[0m\u001b[1;33m)\u001b[0m\u001b[1;33m\u001b[0m\u001b[1;33m\u001b[0m\u001b[0m\n",
      "\u001b[1;32m~\\Anaconda3\\envs\\cv\\lib\\site-packages\\torch\\utils\\data\\dataloader.py\u001b[0m in \u001b[0;36m__next__\u001b[1;34m(self)\u001b[0m\n\u001b[0;32m    361\u001b[0m \u001b[1;33m\u001b[0m\u001b[0m\n\u001b[0;32m    362\u001b[0m     \u001b[1;32mdef\u001b[0m \u001b[0m__next__\u001b[0m\u001b[1;33m(\u001b[0m\u001b[0mself\u001b[0m\u001b[1;33m)\u001b[0m\u001b[1;33m:\u001b[0m\u001b[1;33m\u001b[0m\u001b[1;33m\u001b[0m\u001b[0m\n\u001b[1;32m--> 363\u001b[1;33m         \u001b[0mdata\u001b[0m \u001b[1;33m=\u001b[0m \u001b[0mself\u001b[0m\u001b[1;33m.\u001b[0m\u001b[0m_next_data\u001b[0m\u001b[1;33m(\u001b[0m\u001b[1;33m)\u001b[0m\u001b[1;33m\u001b[0m\u001b[1;33m\u001b[0m\u001b[0m\n\u001b[0m\u001b[0;32m    364\u001b[0m         \u001b[0mself\u001b[0m\u001b[1;33m.\u001b[0m\u001b[0m_num_yielded\u001b[0m \u001b[1;33m+=\u001b[0m \u001b[1;36m1\u001b[0m\u001b[1;33m\u001b[0m\u001b[1;33m\u001b[0m\u001b[0m\n\u001b[0;32m    365\u001b[0m         \u001b[1;32mif\u001b[0m \u001b[0mself\u001b[0m\u001b[1;33m.\u001b[0m\u001b[0m_dataset_kind\u001b[0m \u001b[1;33m==\u001b[0m \u001b[0m_DatasetKind\u001b[0m\u001b[1;33m.\u001b[0m\u001b[0mIterable\u001b[0m \u001b[1;32mand\u001b[0m\u001b[0;31m \u001b[0m\u001b[0;31m\\\u001b[0m\u001b[1;33m\u001b[0m\u001b[1;33m\u001b[0m\u001b[0m\n",
      "\u001b[1;32m~\\Anaconda3\\envs\\cv\\lib\\site-packages\\torch\\utils\\data\\dataloader.py\u001b[0m in \u001b[0;36m_next_data\u001b[1;34m(self)\u001b[0m\n\u001b[0;32m    401\u001b[0m     \u001b[1;32mdef\u001b[0m \u001b[0m_next_data\u001b[0m\u001b[1;33m(\u001b[0m\u001b[0mself\u001b[0m\u001b[1;33m)\u001b[0m\u001b[1;33m:\u001b[0m\u001b[1;33m\u001b[0m\u001b[1;33m\u001b[0m\u001b[0m\n\u001b[0;32m    402\u001b[0m         \u001b[0mindex\u001b[0m \u001b[1;33m=\u001b[0m \u001b[0mself\u001b[0m\u001b[1;33m.\u001b[0m\u001b[0m_next_index\u001b[0m\u001b[1;33m(\u001b[0m\u001b[1;33m)\u001b[0m  \u001b[1;31m# may raise StopIteration\u001b[0m\u001b[1;33m\u001b[0m\u001b[1;33m\u001b[0m\u001b[0m\n\u001b[1;32m--> 403\u001b[1;33m         \u001b[0mdata\u001b[0m \u001b[1;33m=\u001b[0m \u001b[0mself\u001b[0m\u001b[1;33m.\u001b[0m\u001b[0m_dataset_fetcher\u001b[0m\u001b[1;33m.\u001b[0m\u001b[0mfetch\u001b[0m\u001b[1;33m(\u001b[0m\u001b[0mindex\u001b[0m\u001b[1;33m)\u001b[0m  \u001b[1;31m# may raise StopIteration\u001b[0m\u001b[1;33m\u001b[0m\u001b[1;33m\u001b[0m\u001b[0m\n\u001b[0m\u001b[0;32m    404\u001b[0m         \u001b[1;32mif\u001b[0m \u001b[0mself\u001b[0m\u001b[1;33m.\u001b[0m\u001b[0m_pin_memory\u001b[0m\u001b[1;33m:\u001b[0m\u001b[1;33m\u001b[0m\u001b[1;33m\u001b[0m\u001b[0m\n\u001b[0;32m    405\u001b[0m             \u001b[0mdata\u001b[0m \u001b[1;33m=\u001b[0m \u001b[0m_utils\u001b[0m\u001b[1;33m.\u001b[0m\u001b[0mpin_memory\u001b[0m\u001b[1;33m.\u001b[0m\u001b[0mpin_memory\u001b[0m\u001b[1;33m(\u001b[0m\u001b[0mdata\u001b[0m\u001b[1;33m)\u001b[0m\u001b[1;33m\u001b[0m\u001b[1;33m\u001b[0m\u001b[0m\n",
      "\u001b[1;32m~\\Anaconda3\\envs\\cv\\lib\\site-packages\\torch\\utils\\data\\_utils\\fetch.py\u001b[0m in \u001b[0;36mfetch\u001b[1;34m(self, possibly_batched_index)\u001b[0m\n\u001b[0;32m     42\u001b[0m     \u001b[1;32mdef\u001b[0m \u001b[0mfetch\u001b[0m\u001b[1;33m(\u001b[0m\u001b[0mself\u001b[0m\u001b[1;33m,\u001b[0m \u001b[0mpossibly_batched_index\u001b[0m\u001b[1;33m)\u001b[0m\u001b[1;33m:\u001b[0m\u001b[1;33m\u001b[0m\u001b[1;33m\u001b[0m\u001b[0m\n\u001b[0;32m     43\u001b[0m         \u001b[1;32mif\u001b[0m \u001b[0mself\u001b[0m\u001b[1;33m.\u001b[0m\u001b[0mauto_collation\u001b[0m\u001b[1;33m:\u001b[0m\u001b[1;33m\u001b[0m\u001b[1;33m\u001b[0m\u001b[0m\n\u001b[1;32m---> 44\u001b[1;33m             \u001b[0mdata\u001b[0m \u001b[1;33m=\u001b[0m \u001b[1;33m[\u001b[0m\u001b[0mself\u001b[0m\u001b[1;33m.\u001b[0m\u001b[0mdataset\u001b[0m\u001b[1;33m[\u001b[0m\u001b[0midx\u001b[0m\u001b[1;33m]\u001b[0m \u001b[1;32mfor\u001b[0m \u001b[0midx\u001b[0m \u001b[1;32min\u001b[0m \u001b[0mpossibly_batched_index\u001b[0m\u001b[1;33m]\u001b[0m\u001b[1;33m\u001b[0m\u001b[1;33m\u001b[0m\u001b[0m\n\u001b[0m\u001b[0;32m     45\u001b[0m         \u001b[1;32melse\u001b[0m\u001b[1;33m:\u001b[0m\u001b[1;33m\u001b[0m\u001b[1;33m\u001b[0m\u001b[0m\n\u001b[0;32m     46\u001b[0m             \u001b[0mdata\u001b[0m \u001b[1;33m=\u001b[0m \u001b[0mself\u001b[0m\u001b[1;33m.\u001b[0m\u001b[0mdataset\u001b[0m\u001b[1;33m[\u001b[0m\u001b[0mpossibly_batched_index\u001b[0m\u001b[1;33m]\u001b[0m\u001b[1;33m\u001b[0m\u001b[1;33m\u001b[0m\u001b[0m\n",
      "\u001b[1;32m~\\Anaconda3\\envs\\cv\\lib\\site-packages\\torch\\utils\\data\\_utils\\fetch.py\u001b[0m in \u001b[0;36m<listcomp>\u001b[1;34m(.0)\u001b[0m\n\u001b[0;32m     42\u001b[0m     \u001b[1;32mdef\u001b[0m \u001b[0mfetch\u001b[0m\u001b[1;33m(\u001b[0m\u001b[0mself\u001b[0m\u001b[1;33m,\u001b[0m \u001b[0mpossibly_batched_index\u001b[0m\u001b[1;33m)\u001b[0m\u001b[1;33m:\u001b[0m\u001b[1;33m\u001b[0m\u001b[1;33m\u001b[0m\u001b[0m\n\u001b[0;32m     43\u001b[0m         \u001b[1;32mif\u001b[0m \u001b[0mself\u001b[0m\u001b[1;33m.\u001b[0m\u001b[0mauto_collation\u001b[0m\u001b[1;33m:\u001b[0m\u001b[1;33m\u001b[0m\u001b[1;33m\u001b[0m\u001b[0m\n\u001b[1;32m---> 44\u001b[1;33m             \u001b[0mdata\u001b[0m \u001b[1;33m=\u001b[0m \u001b[1;33m[\u001b[0m\u001b[0mself\u001b[0m\u001b[1;33m.\u001b[0m\u001b[0mdataset\u001b[0m\u001b[1;33m[\u001b[0m\u001b[0midx\u001b[0m\u001b[1;33m]\u001b[0m \u001b[1;32mfor\u001b[0m \u001b[0midx\u001b[0m \u001b[1;32min\u001b[0m \u001b[0mpossibly_batched_index\u001b[0m\u001b[1;33m]\u001b[0m\u001b[1;33m\u001b[0m\u001b[1;33m\u001b[0m\u001b[0m\n\u001b[0m\u001b[0;32m     45\u001b[0m         \u001b[1;32melse\u001b[0m\u001b[1;33m:\u001b[0m\u001b[1;33m\u001b[0m\u001b[1;33m\u001b[0m\u001b[0m\n\u001b[0;32m     46\u001b[0m             \u001b[0mdata\u001b[0m \u001b[1;33m=\u001b[0m \u001b[0mself\u001b[0m\u001b[1;33m.\u001b[0m\u001b[0mdataset\u001b[0m\u001b[1;33m[\u001b[0m\u001b[0mpossibly_batched_index\u001b[0m\u001b[1;33m]\u001b[0m\u001b[1;33m\u001b[0m\u001b[1;33m\u001b[0m\u001b[0m\n",
      "\u001b[1;32m<ipython-input-11-3a0351168d50>\u001b[0m in \u001b[0;36m__getitem__\u001b[1;34m(self, idx)\u001b[0m\n\u001b[0;32m     32\u001b[0m \u001b[1;33m\u001b[0m\u001b[0m\n\u001b[0;32m     33\u001b[0m         \u001b[1;32mif\u001b[0m \u001b[0mself\u001b[0m\u001b[1;33m.\u001b[0m\u001b[0mtransform\u001b[0m\u001b[1;33m:\u001b[0m\u001b[1;33m\u001b[0m\u001b[1;33m\u001b[0m\u001b[0m\n\u001b[1;32m---> 34\u001b[1;33m             \u001b[0msample\u001b[0m \u001b[1;33m=\u001b[0m \u001b[0mself\u001b[0m\u001b[1;33m.\u001b[0m\u001b[0mtransform\u001b[0m\u001b[1;33m(\u001b[0m\u001b[0msample\u001b[0m\u001b[1;33m)\u001b[0m\u001b[1;33m\u001b[0m\u001b[1;33m\u001b[0m\u001b[0m\n\u001b[0m\u001b[0;32m     35\u001b[0m         \u001b[1;32mreturn\u001b[0m \u001b[0msample\u001b[0m\u001b[1;33m\u001b[0m\u001b[1;33m\u001b[0m\u001b[0m\n",
      "\u001b[1;32m~\\Anaconda3\\envs\\cv\\lib\\site-packages\\torchvision\\transforms\\transforms.py\u001b[0m in \u001b[0;36m__call__\u001b[1;34m(self, img)\u001b[0m\n\u001b[0;32m     59\u001b[0m     \u001b[1;32mdef\u001b[0m \u001b[0m__call__\u001b[0m\u001b[1;33m(\u001b[0m\u001b[0mself\u001b[0m\u001b[1;33m,\u001b[0m \u001b[0mimg\u001b[0m\u001b[1;33m)\u001b[0m\u001b[1;33m:\u001b[0m\u001b[1;33m\u001b[0m\u001b[1;33m\u001b[0m\u001b[0m\n\u001b[0;32m     60\u001b[0m         \u001b[1;32mfor\u001b[0m \u001b[0mt\u001b[0m \u001b[1;32min\u001b[0m \u001b[0mself\u001b[0m\u001b[1;33m.\u001b[0m\u001b[0mtransforms\u001b[0m\u001b[1;33m:\u001b[0m\u001b[1;33m\u001b[0m\u001b[1;33m\u001b[0m\u001b[0m\n\u001b[1;32m---> 61\u001b[1;33m             \u001b[0mimg\u001b[0m \u001b[1;33m=\u001b[0m \u001b[0mt\u001b[0m\u001b[1;33m(\u001b[0m\u001b[0mimg\u001b[0m\u001b[1;33m)\u001b[0m\u001b[1;33m\u001b[0m\u001b[1;33m\u001b[0m\u001b[0m\n\u001b[0m\u001b[0;32m     62\u001b[0m         \u001b[1;32mreturn\u001b[0m \u001b[0mimg\u001b[0m\u001b[1;33m\u001b[0m\u001b[1;33m\u001b[0m\u001b[0m\n\u001b[0;32m     63\u001b[0m \u001b[1;33m\u001b[0m\u001b[0m\n",
      "\u001b[1;32m<ipython-input-13-162d359fe41a>\u001b[0m in \u001b[0;36m__call__\u001b[1;34m(self, sample)\u001b[0m\n\u001b[0;32m     11\u001b[0m         \u001b[1;32mfor\u001b[0m \u001b[0mframe_idx\u001b[0m \u001b[1;32min\u001b[0m \u001b[0mrange\u001b[0m\u001b[1;33m(\u001b[0m\u001b[0mnum_frames\u001b[0m\u001b[1;33m)\u001b[0m\u001b[1;33m:\u001b[0m\u001b[1;33m\u001b[0m\u001b[1;33m\u001b[0m\u001b[0m\n\u001b[0;32m     12\u001b[0m             \u001b[1;32mfor\u001b[0m \u001b[0mnode_idx\u001b[0m \u001b[1;32min\u001b[0m \u001b[0mrange\u001b[0m\u001b[1;33m(\u001b[0m\u001b[0mnum_nodes\u001b[0m\u001b[1;33m)\u001b[0m\u001b[1;33m:\u001b[0m\u001b[1;33m\u001b[0m\u001b[1;33m\u001b[0m\u001b[0m\n\u001b[1;32m---> 13\u001b[1;33m                 \u001b[0mres\u001b[0m\u001b[1;33m[\u001b[0m\u001b[0mframe_idx\u001b[0m\u001b[1;33m,\u001b[0m \u001b[0mnode_idx\u001b[0m\u001b[1;33m,\u001b[0m \u001b[0mnum_dim\u001b[0m\u001b[1;33m*\u001b[0m\u001b[0mnode_idx\u001b[0m\u001b[1;33m:\u001b[0m\u001b[0mnum_dim\u001b[0m\u001b[1;33m*\u001b[0m\u001b[1;33m(\u001b[0m\u001b[0mnode_idx\u001b[0m\u001b[1;33m+\u001b[0m\u001b[1;36m1\u001b[0m\u001b[1;33m)\u001b[0m\u001b[1;33m]\u001b[0m \u001b[1;33m=\u001b[0m \u001b[0mframes\u001b[0m\u001b[1;33m[\u001b[0m\u001b[0mframe_idx\u001b[0m\u001b[1;33m,\u001b[0m \u001b[0mnode_idx\u001b[0m\u001b[1;33m]\u001b[0m\u001b[1;33m\u001b[0m\u001b[1;33m\u001b[0m\u001b[0m\n\u001b[0m\u001b[0;32m     14\u001b[0m \u001b[1;33m\u001b[0m\u001b[0m\n\u001b[0;32m     15\u001b[0m         \u001b[1;32mreturn\u001b[0m \u001b[1;33m{\u001b[0m\u001b[1;34m'frames'\u001b[0m\u001b[1;33m:\u001b[0m \u001b[0mres\u001b[0m\u001b[1;33m,\u001b[0m \u001b[1;34m'labels'\u001b[0m\u001b[1;33m:\u001b[0m \u001b[0msample\u001b[0m\u001b[1;33m[\u001b[0m\u001b[1;34m'labels'\u001b[0m\u001b[1;33m]\u001b[0m\u001b[1;33m}\u001b[0m\u001b[1;33m\u001b[0m\u001b[1;33m\u001b[0m\u001b[0m\n",
      "\u001b[1;31mKeyboardInterrupt\u001b[0m: "
     ]
    }
   ],
   "source": [
    "partition_strategies = ['group', 'distance']\n",
    "engineering_options = ['normal','unfold']\n",
    "# Algumas configurações básicas\n",
    "num_node = 16\n",
    "batch_size = 256\n",
    "\n",
    "results = {}\n",
    "\n",
    "for strategy in partition_strategies:\n",
    "    if strategy == 'group':\n",
    "        adjacency, kernel_size = get_adjacency_by_group(num_node, adj_list, joint_map)\n",
    "    else:\n",
    "        adjacency, kernel_size = get_adjacency_by_distance(num_node, adj_list, joint_map)\n",
    "    \n",
    "    for engineering_option in engineering_options:\n",
    "        if engineering_option == 'unfold':\n",
    "            transform = transforms.Compose([BuildTaekwondoSequence(label_idx, 212, shuffle_sequence=False),\n",
    "                                            UnfoldActivityFeatures(16),\n",
    "                                            ToSTGcn()\n",
    "                                           ])\n",
    "            input_size = 16*3\n",
    "        else:\n",
    "            transform = transforms.Compose([BuildTaekwondoSequence(label_idx, 212, shuffle_sequence=False),\n",
    "                                            ToSTGcn()\n",
    "                                           ])\n",
    "            input_size = 3\n",
    "        print('Current hyperparameters: [{}], [{}] '.format(strategy,engineering_option) )\n",
    "    \n",
    "        results[(strategy, engineering_option)] = train(athletes, transform, adjacency, input_size, epochs=100)\n",
    "            \n",
    "        \n",
    "        \n",
    "        "
   ]
  },
  {
   "cell_type": "code",
   "execution_count": 76,
   "metadata": {},
   "outputs": [
    {
     "data": {
      "image/png": "[encoded data removed]",
      "text/plain": [
       "<Figure size 1080x360 with 2 Axes>"
      ]
     },
     "metadata": {
      "needs_background": "light"
     },
     "output_type": "display_data"
    }
   ],
   "source": [
    "num_k = len(results[('group', 'unfold')])\n",
    "\n",
    "fig, (ax1, ax2) = plt.subplots(1, 2, figsize=(15,5))\n",
    "for i in range(num_k):\n",
    "    values = results[('group', 'normal')][i]['train_loss']\n",
    "    ax1.plot(range(len(values)), values, 'b')\n",
    "ax1.grid()\n",
    "for i in range(num_k):\n",
    "    values = results[('group', 'normal')][i]['validation_acc']\n",
    "    ax2.plot(range(len(values)), values, 'r')\n",
    "ax2.grid()\n",
    "plt.show()"
   ]
  },
  {
   "cell_type": "code",
   "execution_count": 79,
   "metadata": {},
   "outputs": [
    {
     "name": "stdout",
     "output_type": "stream",
     "text": [
      "Resultados para a configuração ('group', 'normal') - Acurácia: 0.29 - Desvio: 0.09\n",
      "Resultados para a configuração ('group', 'unfold') - Acurácia: 0.50 - Desvio: 0.09\n",
      "Resultados para a configuração ('distance', 'normal') - Acurácia: 0.37 - Desvio: 0.05\n",
      "Resultados para a configuração ('distance', 'unfold') - Acurácia: 0.37 - Desvio: 0.11\n"
     ]
    }
   ],
   "source": [
    "for strategy in partition_strategies:\n",
    "    for engineering_option in engineering_options:\n",
    "        config = (strategy, engineering_option)\n",
    "        num_k = len(results[config])\n",
    "        fold_accuracy = []\n",
    "        for i in range(num_k):\n",
    "            fold_accuracy.append(results[config][i]['validation_acc'][-1])\n",
    "        fold_accuracy = np.array(fold_accuracy)\n",
    "        print(\"Resultados para a configuração {} - Acurácia: {:.2f} - Desvio: {:.2f}\".format(config, np.mean(fold_accuracy), np.std(fold_accuracy)))\n",
    "            \n",
    "        "
   ]
  },
  {
   "cell_type": "code",
   "execution_count": 39,
   "metadata": {},
   "outputs": [],
   "source": [
    "sample_idx = 10"
   ]
  },
  {
   "cell_type": "code",
   "execution_count": 40,
   "metadata": {},
   "outputs": [
    {
     "name": "stdout",
     "output_type": "stream",
     "text": [
      "Sample shape: torch.Size([1, 48, 212, 16])\n",
      "Targets shape: torch.Size([212, 16])\n"
     ]
    }
   ],
   "source": [
    "my_shape = validation_dataset[sample_idx]['frames'].shape\n",
    "frames_np = validation_dataset[sample_idx]['frames']\n",
    "labels_np = validation_dataset[sample_idx]['labels']\n",
    "\n",
    "frames_np = np.reshape(frames_np, (1, my_shape[0], my_shape[1], my_shape[2]))\n",
    "frames = torch.from_numpy(frames_np).to(device, dtype=torch.float)\n",
    "labels = torch.from_numpy(labels_np).to(device, dtype=torch.long)\n",
    "print(\"Sample shape: {}\".format(frames.shape))\n",
    "print(\"Targets shape: {}\".format(labels.shape))"
   ]
  },
  {
   "cell_type": "code",
   "execution_count": 41,
   "metadata": {},
   "outputs": [
    {
     "name": "stdout",
     "output_type": "stream",
     "text": [
      "torch.Size([1, 7, 212, 16])\n",
      "(1, 7, 212, 16)\n",
      "(1, 212, 16)\n"
     ]
    },
    {
     "name": "stderr",
     "output_type": "stream",
     "text": [
      "<ipython-input-35-f676b293b912>:24: UserWarning: Implicit dimension choice for softmax has been deprecated. Change the call to include dim=X as an argument.\n",
      "  return F.softmax(x)\n"
     ]
    }
   ],
   "source": [
    "out = model(frames,A)\n",
    "out_np = out.detach().cpu().numpy()\n",
    "test_predictions = np.argmax(out_np, axis=1)\n",
    "print(out.shape)\n",
    "print(out_np.shape)\n",
    "print(test_predictions.shape)"
   ]
  },
  {
   "cell_type": "code",
   "execution_count": 42,
   "metadata": {},
   "outputs": [],
   "source": [
    "def get_accuracy(out_tensor, labels_tensor):\n",
    "    out_np = out_tensor.detach().cpu().numpy()\n",
    "    print(out_np.shape)\n",
    "    out_np = np.array(np.argmax(out_np, axis=1))\n",
    "    print(out_np.shape)\n",
    "    print(out_np[0,0,:])\n",
    "    \n",
    "    labels_np = np.array(labels_tensor.cpu().numpy())\n",
    "    print(labels_np.shape)\n",
    "    print(labels_np[0,:])\n",
    "    \n",
    "    corrects = np.array(out_np == labels_np)\n",
    "    print(corrects)\n",
    "\n",
    "    result = np.sum(corrects) / (out_np.shape[0] * out_np.shape[1] * out_np.shape[2])\n",
    "    return result"
   ]
  },
  {
   "cell_type": "code",
   "execution_count": 43,
   "metadata": {},
   "outputs": [
    {
     "name": "stdout",
     "output_type": "stream",
     "text": [
      "(1, 7, 212, 16)\n",
      "(1, 212, 16)\n",
      "[5 5 5 2 5 5 5 2 5 5 5 2 5 2 5 5]\n",
      "(212, 16)\n",
      "[2 2 2 2 2 2 2 2 2 2 2 2 2 2 2 2]\n",
      "[[[False False False ...  True False False]\n",
      "  [False False False ... False False False]\n",
      "  [False False False ... False False False]\n",
      "  ...\n",
      "  [ True  True  True ...  True  True  True]\n",
      "  [False False False ...  True  True  True]\n",
      "  [ True  True False ...  True False  True]]]\n"
     ]
    },
    {
     "data": {
      "text/plain": [
       "0.4372051886792453"
      ]
     },
     "execution_count": 43,
     "metadata": {},
     "output_type": "execute_result"
    }
   ],
   "source": [
    "get_accuracy(out, labels)"
   ]
  },
  {
   "cell_type": "code",
   "execution_count": 44,
   "metadata": {},
   "outputs": [],
   "source": [
    "label_colors = {\n",
    "    0: matplotlib.colors.to_rgb('#c62bc6'),\n",
    "    1: matplotlib.colors.to_rgb('#49bcad'),\n",
    "    2: matplotlib.colors.to_rgb('#e1ff00'),\n",
    "    3: matplotlib.colors.to_rgb('#00bbff'),\n",
    "    4: matplotlib.colors.to_rgb('#ffd800'),\n",
    "    5: matplotlib.colors.to_rgb('#00ff11'),\n",
    "    6: matplotlib.colors.to_rgb('#001dff'),\n",
    "    7: matplotlib.colors.to_rgb('#fff600'),\n",
    "    8: matplotlib.colors.to_rgb('#d65968'),\n",
    "}"
   ]
  },
  {
   "cell_type": "code",
   "execution_count": 45,
   "metadata": {},
   "outputs": [],
   "source": [
    "def create_segmentation_picture(values, nodes_per_frame=16):\n",
    "    flatten_values = values.flatten()\n",
    "    picture = np.array([ label_colors[i] for i in flatten_values])\n",
    "    picture = picture.reshape((-1,nodes_per_frame, 3))\n",
    "    picture = np.transpose(picture, (1,0,2))\n",
    "    return picture\n",
    "    "
   ]
  },
  {
   "cell_type": "code",
   "execution_count": 46,
   "metadata": {},
   "outputs": [],
   "source": [
    "def define_label_by_frame(values, nodes_per_frame=16):\n",
    "    flatten_values = values.flatten()\n",
    "    frame_wise_mode = stats.mode(flatten_values.reshape((-1, nodes_per_frame)), axis=1)\n",
    "    frame_pred = frame_wise_mode[0].flatten()\n",
    "    frame_pred = np.array([ [ i for j in range(16)] for i in frame_pred ])\n",
    "    return frame_pred"
   ]
  },
  {
   "cell_type": "code",
   "execution_count": 47,
   "metadata": {},
   "outputs": [],
   "source": [
    "labels_picture = create_segmentation_picture(labels_np)\n",
    "preds_by_node_picture = create_segmentation_picture(test_predictions)\n",
    "preds_by_frame_picture = create_segmentation_picture(define_label_by_frame(test_predictions))\n"
   ]
  },
  {
   "cell_type": "code",
   "execution_count": 48,
   "metadata": {},
   "outputs": [
    {
     "data": {
      "image/png": "[encoded data removed]",
      "text/plain": [
       "<Figure size 1440x288 with 3 Axes>"
      ]
     },
     "metadata": {
      "needs_background": "light"
     },
     "output_type": "display_data"
    }
   ],
   "source": [
    "# print(labels)\n",
    "fig=plt.figure(figsize=(20, 4))\n",
    "fig.add_subplot(3, 1, 1)\n",
    "plt.imshow(labels_picture)\n",
    "fig.add_subplot(3, 1, 2)\n",
    "plt.imshow(preds_by_node_picture)\n",
    "fig.add_subplot(3, 1, 3)\n",
    "plt.imshow(preds_by_frame_picture)\n",
    "\n",
    "plt.show()"
   ]
  },
  {
   "cell_type": "code",
   "execution_count": null,
   "metadata": {},
   "outputs": [],
   "source": []
  },
  {
   "cell_type": "code",
   "execution_count": null,
   "metadata": {},
   "outputs": [],
   "source": []
  }
 ],
 "metadata": {
  "kernelspec": {
   "display_name": "Python 3",
   "language": "python",
   "name": "python3"
  },
  "language_info": {
   "codemirror_mode": {
    "name": "ipython",
    "version": 3
   },
   "file_extension": ".py",
   "mimetype": "text/x-python",
   "name": "python",
   "nbconvert_exporter": "python",
   "pygments_lexer": "ipython3",
   "version": "3.8.5"
  }
 },
 "nbformat": 4,
 "nbformat_minor": 4
}
